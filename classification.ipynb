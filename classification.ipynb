{
 "cells": [
  {
   "cell_type": "code",
   "execution_count": 26,
   "metadata": {},
   "outputs": [],
   "source": [
    "# for array computations and loading data\n",
    "import numpy as np\n",
    "\n",
    "# for building linear regression models and preparing data\n",
    "from sklearn.linear_model import LinearRegression\n",
    "from sklearn.preprocessing import StandardScaler, PolynomialFeatures\n",
    "from sklearn.model_selection import train_test_split\n",
    "from sklearn.metrics import mean_squared_error\n",
    "\n",
    "# for graphing and visualization\n",
    "import matplotlib.pyplot as plt\n",
    "import matplotlib.lines as mlines\n",
    "\n",
    "# for building an training neural networks\n",
    "import tensorflow as tf \n",
    "from tensorflow.keras.models import Sequential\n",
    "from tensorflow.keras.layers import Dense\n",
    "\n",
    "# reduce display precision on numpy arrays\n",
    "np.set_printoptions(precision = 2)\n",
    "\n",
    "# surpress warnings\n",
    "tf.get_logger().setLevel('ERROR')\n",
    "tf.autograph.set_verbosity(0)"
   ]
  },
  {
   "cell_type": "code",
   "execution_count": 27,
   "metadata": {},
   "outputs": [
    {
     "name": "stdout",
     "output_type": "stream",
     "text": [
      "the shape of the inputs x is: (100000, 3)\n",
      "the shape of the targets y is: (100000, 1)\n"
     ]
    }
   ],
   "source": [
    "# Load the dataset from a text file\n",
    "data = np.loadtxt('./diabetes.csv', delimiter=',')\n",
    "\n",
    "# Split the inputs and outputs into separate arrays\n",
    "x = data[:,:-1]\n",
    "y = data[:,-1]\n",
    "\n",
    "# Convert y into 2-D because the commands later will require it (x is already 2-D)\n",
    "y = np.expand_dims(y, axis=1)\n",
    "\n",
    "print(f\"the shape of the inputs x is: {x.shape}\")\n",
    "print(f\"the shape of the targets y is: {y.shape}\")"
   ]
  },
  {
   "cell_type": "code",
   "execution_count": 28,
   "metadata": {},
   "outputs": [
    {
     "name": "stdout",
     "output_type": "stream",
     "text": [
      "the shape of the training set (input) is: (60000, 3)\n",
      "the shape of the training set (target) is: (60000, 1)\n",
      "\n",
      "the shape of the cross validation set (input) is: (20000, 3)\n",
      "the shape of the cross validation set (target) is: (20000, 1)\n",
      "\n",
      "the shape of the test set (input) is: (20000, 3)\n",
      "the shape of the test set (target) is: (20000, 1)\n"
     ]
    }
   ],
   "source": [
    "# Get 60% of the dataset as the training set. Put the remaining 40% in temporary variables.\n",
    "X_train, x_, y_train, y_ = train_test_split(x, y, test_size=0.40, random_state=1)\n",
    "\n",
    "# Split the 40% subset above into two: one half for cross validation and the other for the test set\n",
    "X_cv, X_test, y_cv, y_test = train_test_split(x_, y_, test_size=0.50, random_state=1)\n",
    "\n",
    "# Delete temporary variables\n",
    "del x_, y_\n",
    "\n",
    "print(f\"the shape of the training set (input) is: {X_train.shape}\")\n",
    "print(f\"the shape of the training set (target) is: {y_train.shape}\\n\")\n",
    "print(f\"the shape of the cross validation set (input) is: {X_cv.shape}\")\n",
    "print(f\"the shape of the cross validation set (target) is: {y_cv.shape}\\n\")\n",
    "print(f\"the shape of the test set (input) is: {X_test.shape}\")\n",
    "print(f\"the shape of the test set (target) is: {y_test.shape}\")"
   ]
  },
  {
   "cell_type": "code",
   "execution_count": 29,
   "metadata": {},
   "outputs": [],
   "source": [
    "# Initiating class to scale features\n",
    "scaler = StandardScaler()\n",
    "X_train_scaled = scaler.fit_transform(X_train)\n",
    "X_cv_scaled = scaler.transform(X_cv)\n",
    "X_test_scaled = scaler.transform(X_test)"
   ]
  },
  {
   "cell_type": "code",
   "execution_count": 30,
   "metadata": {},
   "outputs": [],
   "source": [
    "# Build the model\n",
    "tf.random.set_seed(20)\n",
    "\n",
    "model = Sequential(\n",
    "    [\n",
    "        Dense(25, activation = 'relu'),\n",
    "        Dense(15, activation = 'relu'),\n",
    "        Dense(1, activation = 'linear')\n",
    "    ],\n",
    ")"
   ]
  },
  {
   "cell_type": "code",
   "execution_count": 31,
   "metadata": {},
   "outputs": [
    {
     "name": "stdout",
     "output_type": "stream",
     "text": [
      "Training Model...\n",
      "\u001b[1m1/1\u001b[0m \u001b[32m━━━━━━━━━━━━━━━━━━━━\u001b[0m\u001b[37m\u001b[0m \u001b[1m0s\u001b[0m 72ms/step\n",
      "Done!\n",
      "\n",
      "\u001b[1m1875/1875\u001b[0m \u001b[32m━━━━━━━━━━━━━━━━━━━━\u001b[0m\u001b[37m\u001b[0m \u001b[1m2s\u001b[0m 786us/step\n",
      "\u001b[1m625/625\u001b[0m \u001b[32m━━━━━━━━━━━━━━━━━━━━\u001b[0m\u001b[37m\u001b[0m \u001b[1m1s\u001b[0m 896us/step\n",
      "\u001b[1m625/625\u001b[0m \u001b[32m━━━━━━━━━━━━━━━━━━━━\u001b[0m\u001b[37m\u001b[0m \u001b[1m1s\u001b[0m 844us/step\n",
      "Training Set Classification Error: 0.02808\n",
      "CV Set Classification Error: 0.02845\n",
      "Test Set Classification Error: 0.02820\n"
     ]
    }
   ],
   "source": [
    "# Setup the loss and optimizer\n",
    "model.compile(\n",
    "    loss=tf.keras.losses.BinaryCrossentropy(from_logits=True),\n",
    "    optimizer=tf.keras.optimizers.Adam(learning_rate=0.01),\n",
    ")\n",
    "\n",
    "print(f\"Training Model...\")\n",
    "\n",
    "# Train the model\n",
    "model.fit(\n",
    "    X_train_scaled, y_train,\n",
    "    epochs=20,\n",
    "    verbose=0\n",
    ")\n",
    "    \n",
    "print(\"Done!\\n\")\n",
    "\n",
    "# Set the threshold for classification\n",
    "threshold = 0.5\n",
    "\n",
    "# Record the fraction of misclassified examples for the training set\n",
    "yhat = model.predict(X_train_scaled)\n",
    "yhat = tf.math.sigmoid(yhat)\n",
    "yhat = np.where(yhat >= threshold, 1, 0)\n",
    "training_error = np.mean(yhat != y_train)\n",
    "\n",
    "# Record the fraction of misclassified examples for the cross validation set\n",
    "yhat = model.predict(X_cv_scaled)\n",
    "yhat = tf.math.sigmoid(yhat)\n",
    "yhat = np.where(yhat >= threshold, 1, 0)\n",
    "cv_error = np.mean(yhat != y_cv)\n",
    "\n",
    "# Record the fraction of misclassified examples for the test set\n",
    "yhat = model.predict(X_test_scaled)\n",
    "yhat = tf.math.sigmoid(yhat)\n",
    "yhat = np.where(yhat >= threshold, 1, 0)\n",
    "test_error = np.mean(yhat != y_test)\n",
    "\n",
    "# Print the result\n",
    "print(\n",
    "    f\"Training Set Classification Error: {training_error:.5f}\\n\" +\n",
    "    f\"CV Set Classification Error: {cv_error:.5f}\\n\" +\n",
    "    f\"Test Set Classification Error: {test_error:.5f}\"\n",
    ")\n"
   ]
  },
  {
   "cell_type": "code",
   "execution_count": 32,
   "metadata": {},
   "outputs": [],
   "source": [
    "def prediction(bmi, A1c, glucose):\n",
    "    testArray = np.array([\n",
    "        [bmi, A1c, glucose],\n",
    "    ])\n",
    "    testArray_scaled = scaler.transform(testArray)\n",
    "    output = model.predict(testArray_scaled)\n",
    "    output = tf.math.sigmoid(output)\n",
    "    output = np.where(output >= threshold, 1, 0) \n",
    "    final = ','.join(str(item) for innerlist in output for item in innerlist)\n",
    "    return final"
   ]
  },
  {
   "cell_type": "code",
   "execution_count": 33,
   "metadata": {},
   "outputs": [
    {
     "name": "stdout",
     "output_type": "stream",
     "text": [
      "\u001b[1m1/1\u001b[0m \u001b[32m━━━━━━━━━━━━━━━━━━━━\u001b[0m\u001b[37m\u001b[0m \u001b[1m0s\u001b[0m 24ms/step\n",
      "0\n"
     ]
    }
   ],
   "source": [
    "print(prediction(27.32,6.5,100))"
   ]
  },
  {
   "cell_type": "code",
   "execution_count": 36,
   "metadata": {},
   "outputs": [
    {
     "name": "stdout",
     "output_type": "stream",
     "text": [
      "Saved artifact at './saved_models/'. The following endpoints are available:\n",
      "\n",
      "* Endpoint 'serve'\n",
      "  args_0 (POSITIONAL_ONLY): TensorSpec(shape=(None, 3), dtype=tf.float32, name='keras_tensor_4')\n",
      "Output Type:\n",
      "  TensorSpec(shape=(None, 1), dtype=tf.float32, name=None)\n",
      "Captures:\n",
      "  140564238220448: TensorSpec(shape=(), dtype=tf.resource, name=None)\n",
      "  140564238288848: TensorSpec(shape=(), dtype=tf.resource, name=None)\n",
      "  140564238354384: TensorSpec(shape=(), dtype=tf.resource, name=None)\n",
      "  140564238403360: TensorSpec(shape=(), dtype=tf.resource, name=None)\n",
      "  140564238472816: TensorSpec(shape=(), dtype=tf.resource, name=None)\n",
      "  140564239226304: TensorSpec(shape=(), dtype=tf.resource, name=None)\n"
     ]
    }
   ],
   "source": [
    "model.export(\"./saved_models/\")"
   ]
  },
  {
   "cell_type": "code",
   "execution_count": 37,
   "metadata": {},
   "outputs": [
    {
     "name": "stdout",
     "output_type": "stream",
     "text": [
      "Running on local URL:  http://127.0.0.1:7865\n",
      "Running on public URL: https://14032a67a055c32eeb.gradio.live\n",
      "\n",
      "This share link expires in 72 hours. For free permanent hosting and GPU upgrades, run `gradio deploy` from Terminal to deploy to Spaces (https://huggingface.co/spaces)\n"
     ]
    },
    {
     "data": {
      "text/html": [
       "<div><iframe src=\"https://14032a67a055c32eeb.gradio.live\" width=\"100%\" height=\"500\" allow=\"autoplay; camera; microphone; clipboard-read; clipboard-write;\" frameborder=\"0\" allowfullscreen></iframe></div>"
      ],
      "text/plain": [
       "<IPython.core.display.HTML object>"
      ]
     },
     "metadata": {},
     "output_type": "display_data"
    },
    {
     "data": {
      "text/plain": []
     },
     "execution_count": 37,
     "metadata": {},
     "output_type": "execute_result"
    }
   ],
   "source": [
    "import gradio as gr \n",
    "\n",
    "title = \"Diabetes Classifier\"\n",
    "description = \"Based on BMI, HbA1c, and Blood Glucose levels, we are able to take a good estimate on whether or not a patient is diagnosed with diabetes. This TensorFlow neural network model predicts 0 if the patient does not have diabetes, and 1 if the patient does.\"\n",
    "\n",
    "\n",
    "interface = gr.Interface(fn=prediction, \n",
    "                         inputs=[gr.Slider(0,50,label=\"BMI\"),\n",
    "                                 gr.Slider(1,20,label=\"HbA1c Level\"),\n",
    "                                 gr.Slider(50,200,label=\"Blood Glucose Level\")], \n",
    "                         outputs=['text'],\n",
    "                         title=title,\n",
    "                         description=description)\n",
    "\n",
    "interface.launch(share=True)"
   ]
  }
 ],
 "metadata": {
  "kernelspec": {
   "display_name": "Python 3",
   "language": "python",
   "name": "python3"
  },
  "language_info": {
   "codemirror_mode": {
    "name": "ipython",
    "version": 3
   },
   "file_extension": ".py",
   "mimetype": "text/x-python",
   "name": "python",
   "nbconvert_exporter": "python",
   "pygments_lexer": "ipython3",
   "version": "3.10.11"
  },
  "orig_nbformat": 4
 },
 "nbformat": 4,
 "nbformat_minor": 2
}
